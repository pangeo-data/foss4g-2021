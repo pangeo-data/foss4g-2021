{
 "cells": [
  {
   "cell_type": "markdown",
   "id": "f2bed1a9-dc5d-4a45-a295-69ca5c1166f2",
   "metadata": {},
   "source": [
    "# Part1: STAC,Geopandas, Xarray, Dask, Holoviz\n",
    "\n",
    "This notebook will showcase foundational open-source Python libraries in the Pangeo stack of tools, working up from small data to datasets that excede local memory.\n",
    "\n",
    "## Learning objectives:\n",
    "\n",
    "- discover data with [STAC](https://stacspec.org) APIs\n",
    "- perform basic geospatial vector operations with [Geopandas](https://geopandas.org)\n",
    "- perform basic geospatial raster operations with [Xarray](http://xarray.pydata.org/en/stable/)/[Rioxarray](https://corteva.github.io/rioxarray/stable/)\n",
    "- single-machine scaling with [Dask](https://dask.org)\n",
    "- interactive browser visualizations with [Holoviz](https://holoviz.org)"
   ]
  },
  {
   "cell_type": "code",
   "execution_count": null,
   "id": "c2bf65a7-a168-43f3-9ced-42d9b15a6768",
   "metadata": {},
   "outputs": [],
   "source": [
    "# STAC API search\n",
    "import json\n",
    "import pystac_client\n",
    "\n",
    "# Vector utilities\n",
    "import geopandas as gpd\n",
    "\n",
    "# Raster utilities\n",
    "import xarray as xr\n",
    "import rioxarray\n",
    "\n",
    "# Visualization\n",
    "import hvplot.xarray\n",
    "import hvplot.pandas"
   ]
  },
  {
   "cell_type": "code",
   "execution_count": null,
   "id": "d05cb7dd-21b4-47aa-83cf-e2651a16be4c",
   "metadata": {},
   "outputs": [],
   "source": [
    "# It's good practice to keep track of library versions\n",
    "print(f'pystac_client={pystac_client.__version__}')\n",
    "print(f'geopandas={gpd.__version__}')\n",
    "print(f'xarray={xr.__version__}')\n",
    "print(f'rioxarray={rioxarray.__version__}')\n",
    "print(f'hvplot={hvplot.__version__}')"
   ]
  },
  {
   "cell_type": "markdown",
   "id": "7f336f0b-4544-449b-9c97-c22ad52ba559",
   "metadata": {},
   "source": [
    "## Vector data \n",
    "\n",
    "Geospatial vector data consists basic geometries (Points, Lines, Polygons) with coordinate reference system information (CRS). If you're new to vector data, check out this Software Carpentry [lesson](https://carpentries-incubator.github.io/geospatial-python/).\n",
    "\n",
    "[Pandas](https://pandas.pydata.org) is a core scientific Python library to work with \"Panel Data\" (PanDas). Basically if you have a spreadsheet or database you should be using Pandas! Pandas has many input/output (I/O) functions, and two core data structures - the \"Series\" and \"DataFrame\". \n",
    "\n",
    "[Geopandas](http://geopandas.org) extends Pandas to work efficently with collections of geographic Vector data - geometric shapes that are georeferenced to a position on Earth's surface. Geopandas data objects are, you might have guessed, called \"GeoSeries\" and \"GeoDataFrame\".\n",
    "\n",
    "There are *many* vector formats for geospatial data. A very common one is [GeoJSON](https://gdal.org/drivers/vector/geojson.html), which can be easily represented as a Python dictionary:"
   ]
  },
  {
   "cell_type": "code",
   "execution_count": null,
   "id": "ff923c68-74d3-4ab9-b4d1-6ebf3ec4905e",
   "metadata": {},
   "outputs": [],
   "source": [
    "# Barreal, Argentina location in GeoJSON\n",
    "# from https://geojson.io\n",
    "\n",
    "area_of_interest = {\n",
    "  \"type\": \"FeatureCollection\",\n",
    "  \"features\": [\n",
    "    {\n",
    "      \"type\": \"Feature\",\n",
    "      \"properties\": {},\n",
    "      \"geometry\": {\n",
    "        \"type\": \"Point\",\n",
    "        \"coordinates\": [\n",
    "          -69.466552734375,\n",
    "          -31.62532121329918\n",
    "          \n",
    "        ]\n",
    "      }\n",
    "    }\n",
    "  ]\n",
    "}\n",
    "\n",
    "with open('point.geojson', 'w') as f:\n",
    "   json.dump(area_of_interest, f)"
   ]
  },
  {
   "cell_type": "code",
   "execution_count": null,
   "id": "066c13e3-37b3-4970-9fff-042777388509",
   "metadata": {},
   "outputs": [],
   "source": [
    "gf = gpd.read_file('point.geojson')\n",
    "gf['id'] = 'barreal'\n",
    "gf"
   ]
  },
  {
   "cell_type": "code",
   "execution_count": null,
   "id": "9df0767b-e95d-49a0-b04d-2142f5de7534",
   "metadata": {},
   "outputs": [],
   "source": [
    "# Geopandas facilitates geospatial operations such as reprojection\n",
    "# https://epsg.io/32719\n",
    "gf_utm = gf.to_crs('EPSG:32719')\n",
    "gf_utm.buffer(100) \n",
    "# Why reproject? What are the units here?"
   ]
  },
  {
   "cell_type": "markdown",
   "id": "81e8065c-fdd8-4182-8d06-4e546689a5f6",
   "metadata": {},
   "source": [
    "## Search for data\n",
    "\n",
    "[SpatioTemporal Asset Catalogs (STAC)](https://stacspec.org) are a standard among imagery providers to simplify and unify search capabilities. Metadata is in JSON format and definited by a community-built standard [core specification](https://github.com/radiantearth/stac-spec) with optional [extensions](https://stac-extensions.github.io).\n",
    "\n",
    "[pystac_client](https://github.com/stac-utils/pystac-client) is a Python client for working with STAC Catalogs and APIs. It uses [PySTAC](https://pystac.readthedocs.io) behind the scenes to navigate STAC metadata.\n",
    "\n",
    "There are several public STAC API endpoints, which you can find on the [STAC Index Website](https://stacindex.org/catalogs?access=public&type=api), a few are listed below:\n",
    "\n",
    "| provider | endpoint | datacenters |\n",
    "| - | - | - | \n",
    "| [Microsoft Planetary Computer](https://planetarycomputer.microsoft.com/docs/quickstarts/reading-stac/) | https://planetarycomputer.microsoft.com/api/stac/v1 | Azure West Europe |\n",
    "| [Element84 Earthsearch](https://www.element84.com/earth-search/) | https://earth-search.aws.element84.com/v0 | AWS multiple regions | \n",
    "| [NASA CMR STAC Cloud Proxy](https://github.com/nasa/cmr-stac) | https://cmr.earthdata.nasa.gov/cloudstac | AWS us-west-2 | \n",
    "\n",
    "For high-performance and cost-effective analysis, always keep in mind where data is located! For this workshop we are running on servers in Microsoft Azure’s `West Europe` region, so we'll use mostly datasets hosted in that region by the [Planetary Computer Initiative](https://planetarycomputer.microsoft.com). We run computations where the data is stored, and bring small subsets or visualizations back for download."
   ]
  },
  {
   "cell_type": "code",
   "execution_count": null,
   "id": "4e7593f2-8800-41f8-88e1-1b2d2eab3137",
   "metadata": {},
   "outputs": [],
   "source": [
    "from pystac_client import Client\n",
    "\n",
    "# Connect to a STAC API\n",
    "\n",
    "# See documentation of all datasets at https://planetarycomputer.microsoft.com/docs/quickstarts/reading-stac/\n",
    "catalog = Client.open(\"https://planetarycomputer.microsoft.com/api/stac/v1\")\n",
    "\n",
    "# Use the 'geometry' information from GeoJSON\n",
    "search = catalog.search(collections=[\"nasadem\"], \n",
    "                        intersects=area_of_interest['features'][0]['geometry'], \n",
    "                       )"
   ]
  },
  {
   "cell_type": "markdown",
   "id": "3a71991b-6a65-4f90-bb24-32290587bc97",
   "metadata": {},
   "source": [
    "STAC ItemCollections can be represented as *vector* data in GeoJSON format !"
   ]
  },
  {
   "cell_type": "code",
   "execution_count": null,
   "id": "cca4f2fe-e348-402d-bd8c-1b6ba8f48fb2",
   "metadata": {},
   "outputs": [],
   "source": [
    "# A convenient way to display results is as a Geopandas GeoDataFrame\n",
    "gf = gpd.GeoDataFrame.from_features(search.get_all_items_as_dict())\n",
    "\n",
    "# BUG: 'ids' droppped https://github.com/geopandas/geopandas/pull/2003\n",
    "gf['id'] = [item.id for item in search.get_all_items()]\n",
    "gf"
   ]
  },
  {
   "cell_type": "markdown",
   "id": "a2fa612d-6647-44b0-8f30-35d08f09f948",
   "metadata": {},
   "source": [
    "**Aside:** Above we have a simple work-around for a geopandas bug. If open-source libraries are missing some functionality you can help! In fact, the success of open source software relies on community contributions and volunteer efforts. Remember, you are not just a *user* of these tools, but a *supporter* of these tools. Check out the excellent Xarray contributing guide for ideas of how to get started contributing http://xarray.pydata.org/en/stable/contributing.html."
   ]
  },
  {
   "cell_type": "code",
   "execution_count": null,
   "id": "69f50980-b7ad-478f-b416-7ed288cf64a1",
   "metadata": {},
   "outputs": [],
   "source": [
    "# As above we can use holoviews to plot this\n",
    "gf.hvplot.polygons(geo=True, tiles=True, alpha=0.2)"
   ]
  },
  {
   "cell_type": "code",
   "execution_count": null,
   "id": "3306bd18-63e6-45c5-b59a-4dfa05d460b4",
   "metadata": {},
   "outputs": [],
   "source": [
    "# Use PySTAC to iterate of STAC Items\n",
    "for item in search.get_all_items():\n",
    "    print(item.id)\n",
    "    # print the full JSON metadata\n",
    "    #display(item.to_dict())"
   ]
  },
  {
   "cell_type": "code",
   "execution_count": null,
   "id": "3056435d-0426-4c71-b166-7f1eae86146a",
   "metadata": {},
   "outputs": [],
   "source": [
    "# We have a single STAC Item, that can contain multiple STAC Assets:\n",
    "for asset_key, asset in item.assets.items():\n",
    "    print(f\"{asset_key:<10} - {asset.href}\")"
   ]
  },
  {
   "cell_type": "markdown",
   "id": "693be926-286c-409d-9f64-cc3670bdbba3",
   "metadata": {},
   "source": [
    "## Raster data"
   ]
  },
  {
   "cell_type": "code",
   "execution_count": null,
   "id": "d02f6a03-8fe0-4673-b424-dd712f2942c1",
   "metadata": {},
   "outputs": [],
   "source": [
    "da = rioxarray.open_rasterio(asset.href)\n",
    "da"
   ]
  },
  {
   "cell_type": "markdown",
   "id": "03b5dae4-a22e-4ef5-afef-e3181feea094",
   "metadata": {},
   "source": [
    "## Dask"
   ]
  },
  {
   "cell_type": "code",
   "execution_count": null,
   "id": "0774a57d-6a32-4986-8066-75c283f9e762",
   "metadata": {},
   "outputs": [],
   "source": []
  }
 ],
 "metadata": {
  "kernelspec": {
   "display_name": "Python 3 (ipykernel)",
   "language": "python",
   "name": "python3"
  },
  "language_info": {
   "codemirror_mode": {
    "name": "ipython",
    "version": 3
   },
   "file_extension": ".py",
   "mimetype": "text/x-python",
   "name": "python",
   "nbconvert_exporter": "python",
   "pygments_lexer": "ipython3",
   "version": "3.8.12"
  }
 },
 "nbformat": 4,
 "nbformat_minor": 5
}
