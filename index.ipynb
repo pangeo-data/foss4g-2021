{
 "cells": [
  {
   "cell_type": "markdown",
   "id": "f722ff39",
   "metadata": {},
   "source": [
    "# Pangeo FOSS4G 2021 Buenos Aires\n",
    "\n",
    "Bienvenidos!!\n",
    "\n",
    "*Hands-on workshop using open-source Python software for scalable analysis of geospatial data*\n",
    "\n",
    "## https://pangeo-foss4g.westeurope.cloudapp.azure.com/\n",
    "\n",
    "## Notebooks\n",
    "\n",
    "* [Pangeo overview](pangeo-overview.ipynb)\n",
    "* [Data access with STAC](data-access-with-stac.ipynb)\n",
    "* [Distributed geospatial](distributed-geospatial.ipynb)"
   ]
  }
 ],
 "metadata": {
  "kernelspec": {
   "display_name": "Python 3 (ipykernel)",
   "language": "python",
   "name": "python3"
  },
  "language_info": {
   "codemirror_mode": {
    "name": "ipython",
    "version": 3
   },
   "file_extension": ".py",
   "mimetype": "text/x-python",
   "name": "python",
   "nbconvert_exporter": "python",
   "pygments_lexer": "ipython3",
   "version": "3.8.12"
  }
 },
 "nbformat": 4,
 "nbformat_minor": 5
}
