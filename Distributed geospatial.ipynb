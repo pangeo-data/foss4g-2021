{
 "cells": [
  {
   "cell_type": "markdown",
   "id": "0df1f006-ae8b-4661-8ef1-f5263688378a",
   "metadata": {},
   "source": [
    "## Distributed geospatial\n",
    "\n",
    "In this section, we'll learn how to use a cluster of machines to create a cloud-free composite. Because of the amount of data involved, we'll distribute the workload on a cluster of machines.\n",
    "\n",
    "\n",
    "As a reminder, Dask works by using high-level APIs (like xarray) to build task graphs. These task graphs are then executed by a scheduler:\n",
    "\n",
    "![](https://docs.dask.org/en/latest/_images/dask-overview.svg)\n",
    "\n",
    "Ideally, we don't need to change our use of high-level APIs like xarray or Dask DataFrame at all. We just swap out a distributed scheduler / cluster for the single-machine scheduler.\n",
    "\n",
    "That said, it's worth remembering that going distributed makes many things more challenging. You need to think more about how to start workers, communication, distributed filesystems, environments, .... If you don't *need* a cluster, then you should avoid it. But for large enough problems, it's nice to have the option."
   ]
  },
  {
   "cell_type": "markdown",
   "id": "75b89ba0-3090-4adc-920f-3113e4917e96",
   "metadata": {},
   "source": [
    "## Create a cluster\n",
    "\n",
    "This JupyterHub is configured with [Dask Gateway](https://gateway.dask.org/), a convenient way to create Dask clusters."
   ]
  },
  {
   "cell_type": "code",
   "execution_count": null,
   "id": "cc692f68-ea44-4618-8c10-c4fef4d3faed",
   "metadata": {},
   "outputs": [],
   "source": [
    "import dask_gateway\n",
    "\n",
    "cluster = dask_gateway.GatewayCluster()\n",
    "client = cluster.get_client()\n",
    "cluster.scale(16)\n",
    "\n",
    "cluster"
   ]
  },
  {
   "cell_type": "markdown",
   "id": "6b4b0659-7296-4d85-93c8-74e95f39c366",
   "metadata": {},
   "source": [
    "Since we created a Client connected to that cluster, any operations using Dask will use that cluster. "
   ]
  },
  {
   "cell_type": "markdown",
   "id": "af206bfa-2d2d-483b-8069-617637b3fe1f",
   "metadata": {},
   "source": [
    "## Access Earth systems science data\n",
    "\n",
    "We'll work with [monthly Daymet for North America](https://planetarycomputer.microsoft.com/dataset/daymet-monthly-na) data, providing summaries of temperature, precipitation, and other variables."
   ]
  },
  {
   "cell_type": "code",
   "execution_count": null,
   "id": "b5bd1a02-b5b4-413e-8fe8-753e051670e3",
   "metadata": {},
   "outputs": [],
   "source": [
    "import pystac_client\n",
    "\n",
    "stac = pystac_client.Client.open(\"https://planetarycomputer.microsoft.com/api/stac/v1/\")\n",
    "c = stac.get_collection(\"daymet-monthly-na\")\n",
    "c"
   ]
  },
  {
   "cell_type": "markdown",
   "id": "3e351f8b-bd66-48de-a0b8-fb372f06f067",
   "metadata": {},
   "source": [
    "The data is provided in Zarr format."
   ]
  },
  {
   "cell_type": "code",
   "execution_count": null,
   "id": "6668e9f3-d169-40b7-b930-c3b2865711d4",
   "metadata": {},
   "outputs": [],
   "source": [
    "asset = c.assets[\"zarr-https\"]\n",
    "asset"
   ]
  },
  {
   "cell_type": "markdown",
   "id": "d6759909-2318-4929-8f18-ec0525eecf49",
   "metadata": {},
   "source": [
    "Which can be loaded into xarray."
   ]
  },
  {
   "cell_type": "code",
   "execution_count": null,
   "id": "b775d581-3bcb-42e8-a9ac-15317efd6390",
   "metadata": {},
   "outputs": [],
   "source": [
    "import xarray as xr\n",
    "\n",
    "ds = xr.open_zarr(asset.href, **asset.extra_fields[\"xarray:open_kwargs\"])\n",
    "ds"
   ]
  },
  {
   "cell_type": "code",
   "execution_count": null,
   "id": "ee0eeb18-ca24-4fff-9ae4-5a9439b86b1a",
   "metadata": {},
   "outputs": [],
   "source": [
    "x = ds[\"prcp\"].sel(time=slice(\"1985\", None)).mean(dim=\"time\").compute()"
   ]
  },
  {
   "cell_type": "code",
   "execution_count": null,
   "id": "9c3fcf43-b1dd-4d2a-a532-34d1197d0a44",
   "metadata": {},
   "outputs": [],
   "source": [
    "import hvplot.xarray\n",
    "\n",
    "x.hvplot.image(x=\"x\", y=\"y\", rasterize=True, width=900, height=500)"
   ]
  },
  {
   "cell_type": "code",
   "execution_count": null,
   "id": "3a2df2dc-61a9-44d3-8f9e-07a01fd95fcb",
   "metadata": {},
   "outputs": [],
   "source": [
    "ts = ds[\"tmax\"].mean(dim=(\"y\", \"x\")).compute()"
   ]
  },
  {
   "cell_type": "code",
   "execution_count": null,
   "id": "5b86ff6c-5765-492a-a5c6-7ff1b00fc223",
   "metadata": {},
   "outputs": [],
   "source": [
    "ts.plot(figsize=(12, 6));"
   ]
  },
  {
   "cell_type": "code",
   "execution_count": null,
   "id": "89a8cdb6-4f0e-465d-bb79-b9ed0f734525",
   "metadata": {},
   "outputs": [],
   "source": [
    "ts.groupby(\"time.year\").mean().plot();"
   ]
  },
  {
   "cell_type": "markdown",
   "id": "ee604297-693b-4ca7-8056-2be66ae947eb",
   "metadata": {},
   "source": [
    "## Access remote sensing data\n",
    "\n",
    "Now we'll make a cloudless composite from a bunch of setallite imagery."
   ]
  },
  {
   "cell_type": "code",
   "execution_count": null,
   "id": "a9139289-a2d7-4efa-8a95-4aec684d193f",
   "metadata": {},
   "outputs": [],
   "source": [
    "import pystac_client\n",
    "\n",
    "bbox = [-59.69, -34.74, -58.24, -33.65]\n",
    "stac = pystac_client.Client.open(\"https://planetarycomputer.microsoft.com/api/stac/v1\")\n",
    "\n",
    "search = stac.search(\n",
    "    bbox=bbox,\n",
    "    datetime=\"2018-01-01/2020-12-31\",\n",
    "    collections=[\"sentinel-2-l2a\"],\n",
    "    limit=500,  # fetch items in batches of 500\n",
    "    query={\"eo:cloud_cover\": {\"lt\": 25}},\n",
    ")"
   ]
  },
  {
   "cell_type": "code",
   "execution_count": null,
   "id": "48627fb9-fd4e-4d45-99e7-2f262761b3df",
   "metadata": {},
   "outputs": [],
   "source": [
    "%%time\n",
    "items = list(search.get_all_items())\n",
    "print(len(items))"
   ]
  },
  {
   "cell_type": "code",
   "execution_count": null,
   "id": "b096b6fa-e113-4582-bc46-b1b1aed9432a",
   "metadata": {},
   "outputs": [],
   "source": [
    "import planetary_computer\n",
    "\n",
    "signed_items = []\n",
    "for item in items:\n",
    "    item = item.clone()\n",
    "    item.clear_links()\n",
    "    signed_items.append(planetary_computer.sign(item))"
   ]
  },
  {
   "cell_type": "code",
   "execution_count": null,
   "id": "d1f88409-eefd-4774-a498-53edd7b3190a",
   "metadata": {},
   "outputs": [],
   "source": [
    "import stackstac\n",
    "\n",
    "ds = stackstac.stack(\n",
    "    [x.to_dict() for x in signed_items],\n",
    "    assets=[\"B04\", \"B03\", \"B02\"],\n",
    "    epsg=32721\n",
    ")\n",
    "ds"
   ]
  },
  {
   "cell_type": "code",
   "execution_count": null,
   "id": "4f1f7c39-0227-4668-a4c1-37196191c855",
   "metadata": {},
   "outputs": [],
   "source": [
    "import stackstac\n",
    "import rasterio.enums\n",
    "\n",
    "ds = stackstac.stack(\n",
    "    [x.to_dict() for x in signed_items],\n",
    "    assets=[\"B04\", \"B03\", \"B02\"],\n",
    "    epsg=32721,\n",
    "    bounds_latlon=bbox,\n",
    "    resolution=100,\n",
    "    resampling=rasterio.enums.Resampling.bilinear\n",
    ").where(lambda x: x > 0)\n",
    "ds"
   ]
  },
  {
   "cell_type": "code",
   "execution_count": null,
   "id": "7d30c00d-8ab1-4cfe-88c6-4bb6ae133fe4",
   "metadata": {},
   "outputs": [],
   "source": [
    "monthly_rgb = ds.resample(time=\"MS\").median(dim=\"time\")\n",
    "monthly_rgb"
   ]
  },
  {
   "cell_type": "code",
   "execution_count": null,
   "id": "c0ccfa66-0715-4ed5-ad64-7e56a25304b2",
   "metadata": {},
   "outputs": [],
   "source": [
    "rgb = monthly_rgb.compute()"
   ]
  },
  {
   "cell_type": "code",
   "execution_count": null,
   "id": "d1aaf35c-ec22-466a-beed-3b664c850d63",
   "metadata": {},
   "outputs": [],
   "source": [
    "rgb.plot.imshow(row=\"time\", rgb=\"band\", robust=True, size=6);"
   ]
  }
 ],
 "metadata": {
  "kernelspec": {
   "display_name": "Python 3 (ipykernel)",
   "language": "python",
   "name": "python3"
  },
  "language_info": {
   "codemirror_mode": {
    "name": "ipython",
    "version": 3
   },
   "file_extension": ".py",
   "mimetype": "text/x-python",
   "name": "python",
   "nbconvert_exporter": "python",
   "pygments_lexer": "ipython3",
   "version": "3.8.10"
  }
 },
 "nbformat": 4,
 "nbformat_minor": 5
}
