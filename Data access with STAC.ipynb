{
 "cells": [
  {
   "cell_type": "markdown",
   "id": "963119e7-5b99-4bfd-9a24-ad3bcec89d67",
   "metadata": {},
   "source": [
    "# Data access with STAC\n",
    "\n",
    "This section introduces [STAC](https://stacspec.org/), the SpatioTemporal Asset Catalog. STAC provides a standardized way to structure metadata about spatialotemporal data. The STAC community are building APIs and tools on top of this structure to make working with spatiotemporal data easier.\n",
    "\n",
    "This notebook will give a brief introduction to the concepts defined by STAC, before moving on to using the STAC API easily find and load data."
   ]
  },
  {
   "cell_type": "markdown",
   "id": "89aa2b68-5483-4472-84e3-0a6bc51845e3",
   "metadata": {},
   "source": [
    "## Introduction to STAC\n",
    "\n",
    "Users of STAC will interact most often with **Collections** and **Items** (there's also **Catalogs**, which group together collections). A Collection is just a collection of items, plus some additional metadata like the license and summaries of what's available on each item. You can view the collections available on the Planetary Computer at https://planetarycomputer.microsoft.com/catalog. There's also [STAC Index](https://stacindex.org/), which maintains a list of public catalogs.\n",
    "\n",
    "Let's load up the collection for Sentinel 2 Level 2-A, and compare it to the [HTML version](https://planetarycomputer.microsoft.com/dataset/sentinel-2-l2a) on the Planetary Computer website (which is generated from the STAC metadata)."
   ]
  },
  {
   "cell_type": "code",
   "execution_count": null,
   "id": "e427f285-804f-43ca-915d-955f152f64fe",
   "metadata": {},
   "outputs": [],
   "source": [
    "import pystac\n",
    "\n",
    "sentinel2 = pystac.read_file(\n",
    "    \"https://planetarycomputer.microsoft.com/api/stac/v1/collections/sentinel-2-l2a/\"\n",
    ")\n",
    "sentinel2"
   ]
  },
  {
   "cell_type": "code",
   "execution_count": null,
   "id": "7c1b4a4b-0192-43b0-8aee-1cf71dfd3faf",
   "metadata": {},
   "outputs": [],
   "source": [
    "print(sentinel2.description)"
   ]
  },
  {
   "cell_type": "code",
   "execution_count": null,
   "id": "66468189-b2bc-48f7-b3dd-b8103de63b22",
   "metadata": {},
   "outputs": [],
   "source": [
    "sentinel2.extent.spatial.to_dict()"
   ]
  },
  {
   "cell_type": "code",
   "execution_count": null,
   "id": "cb5cf795-f881-4b77-86b6-bddc3b07ddc7",
   "metadata": {},
   "outputs": [],
   "source": [
    "sentinel2.extent.temporal.to_dict()"
   ]
  },
  {
   "cell_type": "code",
   "execution_count": null,
   "id": "ac0f865a-2da0-41b9-8bea-f8a46383d4cf",
   "metadata": {},
   "outputs": [],
   "source": [
    "sentinel2.to_dict()"
   ]
  },
  {
   "cell_type": "markdown",
   "id": "a6785840-d214-4064-8a5d-ef994d7e9c8a",
   "metadata": {},
   "source": [
    "Now let's take a look at a specific item. In this case, we'll load an item that covers the area just north of Buenos Aires: https://planetarycomputer-staging.microsoft.com/api/stac/v1/collections/sentinel-2-l2a/items/S2A_MSIL2A_20210811T135121_R024_T21HUC_20210812T044104"
   ]
  },
  {
   "cell_type": "code",
   "execution_count": null,
   "id": "e8f09512-d517-4421-8ce2-b74bcc89a0fc",
   "metadata": {},
   "outputs": [],
   "source": [
    "item = pystac.read_file(\n",
    "    \"https://planetarycomputer-staging.microsoft.com/api/stac/v1/collections\"\n",
    "    \"/sentinel-2-l2a/items/\"\n",
    "    \"S2A_MSIL2A_20210811T135121_R024_T21HUC_20210812T044104\"\n",
    ")\n",
    "item"
   ]
  },
  {
   "cell_type": "markdown",
   "id": "79cf0e6c-936d-487e-bf75-063114954ff4",
   "metadata": {},
   "source": [
    "The STAC item has a whole bunch of metadata about the Sentinel-2 Scene."
   ]
  },
  {
   "cell_type": "code",
   "execution_count": null,
   "id": "21223fb2-cd55-4d8d-b028-004d9809d8fd",
   "metadata": {},
   "outputs": [],
   "source": [
    "item.datetime"
   ]
  },
  {
   "cell_type": "code",
   "execution_count": null,
   "id": "eecf0e69-02a0-49d0-9c65-25fb9e36b835",
   "metadata": {},
   "outputs": [],
   "source": [
    "item.bbox"
   ]
  },
  {
   "cell_type": "code",
   "execution_count": null,
   "id": "c43ae6c3-5160-44c0-ba4c-da2140aa7f86",
   "metadata": {},
   "outputs": [],
   "source": [
    "from pystac.extensions.projection import ProjectionExtension\n",
    "\n",
    "ProjectionExtension.ext(item).epsg"
   ]
  },
  {
   "cell_type": "code",
   "execution_count": null,
   "id": "319304e3-60d0-4290-8d09-a87a9d33ba5c",
   "metadata": {},
   "outputs": [],
   "source": [
    "from pystac.extensions.eo import EOExtension\n",
    "\n",
    "EOExtension.ext(item).cloud_cover"
   ]
  },
  {
   "cell_type": "markdown",
   "id": "7eb75723-b9e9-4afb-bb8f-c5a5a9611ac1",
   "metadata": {},
   "source": [
    "The most important pieces of metadata are links to the actual data. These are available under \"assets\""
   ]
  },
  {
   "cell_type": "code",
   "execution_count": null,
   "id": "7a4902f4-3004-47a4-b786-cd84ab5dc799",
   "metadata": {},
   "outputs": [],
   "source": [
    "item.assets"
   ]
  },
  {
   "cell_type": "markdown",
   "id": "8e3b0093-31db-48cc-8858-43c5ab3a2883",
   "metadata": {},
   "source": [
    "For example, we can use the \"tilejson\" URL, combined with `ipyleaflet` and the Item's geometry to quickly visualize the data."
   ]
  },
  {
   "cell_type": "code",
   "execution_count": null,
   "id": "53622aaa-825b-45ef-8fac-fdc24a17f5d4",
   "metadata": {},
   "outputs": [],
   "source": [
    "from ipyleaflet import Map, TileLayer, GeoJSON, FullScreenControl\n",
    "import shapely.geometry\n",
    "import requests\n",
    "\n",
    "center = shapely.geometry.shape(item.geometry).centroid.bounds[:2][::-1]\n",
    "\n",
    "m = Map(center=center, zoom=12)\n",
    "layer = TileLayer(\n",
    "    url=requests.get(item.assets[\"tilejson\"].href).json()[\"tiles\"][0],\n",
    ")\n",
    "m.add_layer(layer)\n",
    "m.add_control(FullScreenControl())\n",
    "\n",
    "m.scroll_wheel_zoom = True\n",
    "m"
   ]
  },
  {
   "cell_type": "markdown",
   "id": "5dccbba8-e0e8-43ef-8c8a-cf3c30d5d92b",
   "metadata": {},
   "source": [
    "### Signing for the Planetary Computer\n",
    "\n",
    "If you try to open any of the data assets (e.g. \"B02\" for the blue band) you'll get a 404 error."
   ]
  },
  {
   "cell_type": "code",
   "execution_count": null,
   "id": "590c92ae-7998-4077-ace3-b7a2d0244ccf",
   "metadata": {},
   "outputs": [],
   "source": [
    "import requests\n",
    "\n",
    "r = requests.get(item.assets[\"B02\"].href)\n",
    "r.status_code"
   ]
  },
  {
   "cell_type": "markdown",
   "id": "1b814739-9aaf-4ce0-9f88-ad05571c8aa8",
   "metadata": {},
   "source": [
    "So while the STAC *metadata* is all public, *data* from the Planetary Computer is typically in private Blob Storage containers. But, you can access it anonymously by *signing* the item / asset / href."
   ]
  },
  {
   "cell_type": "code",
   "execution_count": null,
   "id": "6d6f5747-1aa1-4452-9c52-264c7e52f9ed",
   "metadata": {},
   "outputs": [],
   "source": [
    "import rioxarray\n",
    "import planetary_computer\n",
    "\n",
    "ds = rioxarray.open_rasterio(planetary_computer.sign(item.assets[\"B02\"].href))\n",
    "ds"
   ]
  },
  {
   "cell_type": "markdown",
   "id": "7cf39e6c-04a8-4572-87bb-2559852fe81b",
   "metadata": {},
   "source": [
    "You can sign ItemCollections, Items, Assets, or URLs. Once a URL has been signed, it can be opened with any of your favorite tools (rioxarray, rasterio / GDAL, QGIS, etc.)."
   ]
  },
  {
   "cell_type": "markdown",
   "id": "d7b4cda6-4adf-4818-bc9e-ef60c56576aa",
   "metadata": {},
   "source": [
    "## Querying the STAC API\n",
    "\n",
    "In the examples we've seen so far, we've just been given a STAC item. How do you find the items you want in the first place? That's where a STAC **API** comes in.\n",
    "\n",
    "A STAC API is some web service that accepts queries and returns STAC objects. The ability to handle queries is what differentiates a STAC API from a *static* STAC catalog, where items are just present on some file system.\n",
    "\n",
    "![image.png](ms-stac.png)\n",
    "\n",
    "Visit https://planetarycomputer.microsoft.com/api/stac/v1/docs for documentation on a STAC API with HTTP requests. We'll use [pystac-client](https://pystac-client.readthedocs.io/en/latest/)."
   ]
  },
  {
   "cell_type": "code",
   "execution_count": null,
   "id": "59cdc9d2-afa3-4bbd-865d-1cdc2100f1da",
   "metadata": {},
   "outputs": [],
   "source": [
    "import pystac_client\n",
    "\n",
    "bbox = [-58.92, -34.81, -58.26, -34.18]\n",
    "date_range = \"2020-01-01/2020-12-31\"\n",
    "\n",
    "catalog = pystac_client.Client.open(\"https://planetarycomputer.microsoft.com/api/stac/v1\")\n",
    "search = catalog.search(\n",
    "    collections=[\"sentinel-2-l2a\"],\n",
    "    bbox=bbox,\n",
    "    datetime=date_range,\n",
    ")"
   ]
  },
  {
   "cell_type": "code",
   "execution_count": null,
   "id": "132f6a71-7b65-4122-bdff-2325cb071d3e",
   "metadata": {},
   "outputs": [],
   "source": [
    "%time items = list(search.get_all_items())"
   ]
  },
  {
   "cell_type": "code",
   "execution_count": null,
   "id": "b0c182fc-e42b-467d-806f-d407517a74be",
   "metadata": {},
   "outputs": [],
   "source": [
    "import shapely.geometry\n",
    "\n",
    "item = items[0]\n",
    "center = shapely.geometry.shape(item.geometry).centroid.bounds[:2][::-1]\n",
    "\n",
    "m = Map(center=center, zoom=8)\n",
    "layer = TileLayer(\n",
    "    url=requests.get(item.assets[\"tilejson\"].href).json()[\"tiles\"][0],\n",
    ")\n",
    "m.add_layer(layer)\n",
    "m.add_control(FullScreenControl())\n",
    "\n",
    "m.scroll_wheel_zoom = True\n",
    "m"
   ]
  },
  {
   "cell_type": "markdown",
   "id": "0113c6cd-0d00-4f87-bf18-d850fcd52ea5",
   "metadata": {},
   "source": [
    "Oops, that image is pretty cloudy."
   ]
  },
  {
   "cell_type": "code",
   "execution_count": null,
   "id": "33bac978-4aee-4521-942c-88cccfd9dead",
   "metadata": {},
   "outputs": [],
   "source": [
    "EOExtension.ext(item).cloud_cover"
   ]
  },
  {
   "cell_type": "markdown",
   "id": "548ee615-f7b3-48af-bde5-e93354d278ac",
   "metadata": {},
   "source": [
    "Fortunately, with the STAC API, it's possible to filter out images that are cloudier than some threshold."
   ]
  },
  {
   "cell_type": "code",
   "execution_count": null,
   "id": "b0bf2e9f-ff30-4ff5-82f8-99022366b271",
   "metadata": {},
   "outputs": [],
   "source": [
    "import pystac_client\n",
    "\n",
    "bbox = [-58.92, -34.81, -58.26, -34.18]\n",
    "date_range = \"2020-01-01/2020-12-31\"\n",
    "\n",
    "catalog = pystac_client.Client.open(\"https://planetarycomputer.microsoft.com/api/stac/v1\")\n",
    "low_cloud_search = catalog.search(\n",
    "    collections=[\"sentinel-2-l2a\"],\n",
    "    bbox=bbox,\n",
    "    datetime=date_range,\n",
    "    query={\"eo:cloud_cover\": {\"lt\": 10}}  # Just return items with few clouds\n",
    ")"
   ]
  },
  {
   "cell_type": "code",
   "execution_count": null,
   "id": "c9ae7a50-6e17-48fc-9d3e-ba93999bf725",
   "metadata": {},
   "outputs": [],
   "source": [
    "%time items = list(low_cloud_search.get_all_items())"
   ]
  },
  {
   "cell_type": "code",
   "execution_count": null,
   "id": "95c22d30-b39e-4ee8-a191-e5f4c64687e1",
   "metadata": {},
   "outputs": [],
   "source": [
    "len(items)"
   ]
  },
  {
   "cell_type": "code",
   "execution_count": null,
   "id": "03336bca-2fec-46d1-a159-577bd6b501c4",
   "metadata": {},
   "outputs": [],
   "source": [
    "item = items[0]\n",
    "center = shapely.geometry.shape(item.geometry).centroid.bounds[:2][::-1]\n",
    "\n",
    "m = Map(center=center, zoom=9)\n",
    "layer = TileLayer(\n",
    "    url=requests.get(item.assets[\"tilejson\"].href).json()[\"tiles\"][0],\n",
    ")\n",
    "m.add_layer(layer)\n",
    "m.add_control(FullScreenControl())\n",
    "m.add_layer(GeoJSON(data=shapely.geometry.mapping(shapely.geometry.box(*bbox))))\n",
    "m.scroll_wheel_zoom = True\n",
    "m"
   ]
  },
  {
   "cell_type": "markdown",
   "id": "bda2c7ae-c9a8-412f-a60e-3c8add08ec9a",
   "metadata": {},
   "source": [
    "### Loading STAC Items into xarray\n",
    "\n",
    "Many remote sensing datasets are provided as collections of COGs. Each COG covers some area, and was taken at a specific time and a specific wavelength. It's very convienient to work with this as a 4-dimensional DataArray indexed by `(time, band, lon, lat)`. The `stackstac` library is a great way to build this type of DataArray."
   ]
  },
  {
   "cell_type": "code",
   "execution_count": null,
   "id": "44f0fbd9-4f98-44ef-a5aa-946d48ea1cd3",
   "metadata": {},
   "outputs": [],
   "source": [
    "signed_items = [planetary_computer.sign(item).to_dict() for item in items]"
   ]
  },
  {
   "cell_type": "code",
   "execution_count": null,
   "id": "56ef6bc5-be97-4d4c-8c2b-d0daa0c552e7",
   "metadata": {},
   "outputs": [],
   "source": [
    "%%time\n",
    "import stackstac\n",
    "\n",
    "ds = stackstac.stack(signed_items, assets=[\"B02\", \"B03\", \"B04\", \"B08\"])\n",
    "ds"
   ]
  },
  {
   "cell_type": "markdown",
   "id": "5c2df5de-03d7-42a5-b73a-4845f70f1033",
   "metadata": {},
   "source": [
    "Oh that's a big DataArray. We aren't quite ready to tackle it yet, so let's narrow things down a bit."
   ]
  },
  {
   "cell_type": "code",
   "execution_count": null,
   "id": "d2da32a8-0166-4ad9-9f4e-1a56e576ac90",
   "metadata": {},
   "outputs": [],
   "source": [
    "import stackstac\n",
    "\n",
    "ds = stackstac.stack(\n",
    "    signed_items,\n",
    "    assets=[\"B02\", \"B03\", \"B04\", \"B08\"],\n",
    "    bounds_latlon=bbox,\n",
    "    resolution=90\n",
    ")\n",
    "ds"
   ]
  },
  {
   "cell_type": "code",
   "execution_count": null,
   "id": "67a621d4-8537-4d13-a7de-1387c097bdc5",
   "metadata": {},
   "outputs": [],
   "source": [
    "from distributed import Client\n",
    "\n",
    "client = Client()\n",
    "client"
   ]
  },
  {
   "cell_type": "code",
   "execution_count": null,
   "id": "9d780249-5471-48f0-ad78-9241e6cbbc11",
   "metadata": {},
   "outputs": [],
   "source": [
    "ds = (\n",
    "    ds.where(lambda x: x > 0)  # filter out nodata\n",
    "      .compute()\n",
    "      .ffill(dim=\"time\")  # AOI spans two Scene boundaries\n",
    ")"
   ]
  },
  {
   "cell_type": "markdown",
   "id": "4ef45d0c-4c32-42ad-8b27-6607c8ec4311",
   "metadata": {},
   "source": [
    "So we just\n",
    "\n",
    "1. Queried the millions of Sentinel-2 Level 2-A scenes for just ones matching our requirements (location, time, cloudiness) using the STAC API\n",
    "2. Assembled the matching scenes into a 4-d DataArray using stackstac\n",
    "3. Loaded those into memory in parallel using Dask"
   ]
  },
  {
   "cell_type": "code",
   "execution_count": null,
   "id": "2824c7cb-750a-420e-920f-2754d9ef8548",
   "metadata": {},
   "outputs": [],
   "source": [
    "blue = ds.sel(band=\"B02\")\n",
    "green = ds.sel(band=\"B03\")\n",
    "red = ds.sel(band=\"B04\")\n",
    "nir = ds.sel(band=\"B08\")"
   ]
  },
  {
   "cell_type": "code",
   "execution_count": null,
   "id": "57dbaff8-e9a5-44ef-b745-89d1cbd5714d",
   "metadata": {},
   "outputs": [],
   "source": [
    "ndvi = (nir - red) / (nir + red)"
   ]
  },
  {
   "cell_type": "code",
   "execution_count": null,
   "id": "3636d8be-e989-429b-ac3c-6ae33ac7f5f9",
   "metadata": {},
   "outputs": [],
   "source": [
    "import matplotlib.pyplot as plt\n",
    "\n",
    "ndvi[1].plot.imshow(figsize=(12, 9), cmap=\"YlGn\");"
   ]
  },
  {
   "cell_type": "code",
   "execution_count": null,
   "id": "7b817f7c-f708-47ca-83d2-2c318b7127af",
   "metadata": {},
   "outputs": [],
   "source": [
    "ts = ndvi.mean(dim=[\"y\", \"x\"])\n",
    "ts.plot()"
   ]
  },
  {
   "cell_type": "code",
   "execution_count": null,
   "id": "bf09dd3a-1c50-44ff-8d15-009abaefcdda",
   "metadata": {},
   "outputs": [],
   "source": [
    "low = ts.argmin().item()"
   ]
  },
  {
   "cell_type": "code",
   "execution_count": null,
   "id": "4d9e5fc4-513a-4af1-bc1a-ae9cbfb1d0c3",
   "metadata": {},
   "outputs": [],
   "source": [
    "ndvi.isel(time=low).plot.imshow(figsize=(12, 9), cmap=\"YlGn\");"
   ]
  },
  {
   "cell_type": "code",
   "execution_count": null,
   "id": "9109bf2e-94d2-4708-84aa-92188e755881",
   "metadata": {},
   "outputs": [],
   "source": [
    "peak = ndvi.max(dim=\"time\")\n",
    "diff = (peak - ndvi)"
   ]
  },
  {
   "cell_type": "code",
   "execution_count": null,
   "id": "7b173f2f-69d0-4a99-8286-15a046115ca1",
   "metadata": {},
   "outputs": [],
   "source": [
    "diff.isel(time=1).plot.imshow(figsize=(12, 9), cmap=\"YlGn\", vmax=1);"
   ]
  },
  {
   "cell_type": "code",
   "execution_count": null,
   "id": "d6bd023e-7b11-498a-91ea-aefd1bcac9aa",
   "metadata": {},
   "outputs": [],
   "source": [
    "diff.isel(time=low).plot.imshow(figsize=(12, 9), cmap=\"YlGn\", vmax=1);"
   ]
  }
 ],
 "metadata": {
  "kernelspec": {
   "display_name": "Python 3 (ipykernel)",
   "language": "python",
   "name": "python3"
  },
  "language_info": {
   "codemirror_mode": {
    "name": "ipython",
    "version": 3
   },
   "file_extension": ".py",
   "mimetype": "text/x-python",
   "name": "python",
   "nbconvert_exporter": "python",
   "pygments_lexer": "ipython3",
   "version": "3.8.10"
  }
 },
 "nbformat": 4,
 "nbformat_minor": 5
}
